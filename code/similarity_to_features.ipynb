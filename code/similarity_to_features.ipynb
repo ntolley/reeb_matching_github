{
 "cells": [
  {
   "cell_type": "markdown",
   "metadata": {},
   "source": [
    "## Similarity to Features\n",
    "This notebook explores the parameter sensitivity of similarity metrics"
   ]
  },
  {
   "cell_type": "code",
   "execution_count": null,
   "metadata": {},
   "outputs": [],
   "source": [
    "import numpy as np\n",
    "import os\n",
    "from os.path import isfile, join\n",
    "from os import listdir\n",
    "from mpl_toolkits import mplot3d\n",
    "import matplotlib.pyplot as plt\n",
    "import seaborn as sns\n",
    "import pandas as pd\n",
    "import csd_functions\n",
    "import scipy\n",
    "import reeb_matching\n",
    "from copy import deepcopy\n",
    "import scipy.spatial.distance as ssd\n",
    "import scipy.cluster.hierarchy as hcluster\n",
    "sns.set()"
   ]
  },
  {
   "cell_type": "markdown",
   "metadata": {},
   "source": [
    "Load Similarity Matrices and compute dendrograms"
   ]
  },
  {
   "cell_type": "code",
   "execution_count": null,
   "metadata": {},
   "outputs": [],
   "source": [
    "w_similarity_matrix = np.array(pd.read_csv('../data/gbarEvPyrAmpa_sweep/similarity_matrices/similarity_matrix_wasserstein.csv',header=None))\n",
    "w_similarity_matrix = w_similarity_matrix/np.max(w_similarity_matrix)\n",
    "\n",
    "#Make symmetric wrt upper triangle\n",
    "i_lower = np.tril_indices(w_similarity_matrix.shape[0], -1)\n",
    "w_similarity_matrix[i_lower] = w_similarity_matrix.T[i_lower]\n",
    "\n",
    "%matplotlib inline\n",
    "plt.figure(figsize=(5,5))\n",
    "sns.set_style('darkgrid',{'axes.grid' : False})\n",
    "plt.imshow(w_similarity_matrix)\n",
    "plt.title('Topographic Similarity Matrix')\n",
    "plt.colorbar()\n",
    "plt.show()"
   ]
  },
  {
   "cell_type": "code",
   "execution_count": null,
   "metadata": {},
   "outputs": [],
   "source": [
    "%matplotlib qt\n",
    "\n",
    "distVec = ssd.squareform(w_similarity_matrix)\n",
    "linkage = hcluster.linkage(distVec)\n",
    "plt.figure()\n",
    "dendro  = hcluster.dendrogram(linkage)"
   ]
  },
  {
   "cell_type": "code",
   "execution_count": null,
   "metadata": {},
   "outputs": [],
   "source": [
    "%matplotlib inline\n",
    "cluster_indeces = hcluster.fcluster(linkage, t=4, criterion='maxclust')\n",
    "cluster_labels = np.unique(cluster_indeces)\n",
    "p_dir = '../lfp_reeb_github/data/gbarEvPyrAmpa_sweep/points'\n",
    "file_list = np.array(os.listdir(p_dir)) \n",
    "\n",
    "for label in cluster_labels:\n",
    "    file_cluster = file_list[cluster_indeces == label]\n",
    "    num_files = len(file_cluster)\n",
    "    num_rc = np.ceil(np.sqrt(num_files)).astype(int)\n",
    "\n",
    "    count = 1\n",
    "    plt.figure()\n",
    "    for f in file_cluster:\n",
    "        f_path = p_dir + '/' + f\n",
    "\n",
    "        plt.subplot(num_rc,num_rc,count)\n",
    "        csd_grid = csd_functions.points2grid(np.array(pd.read_csv(f_path)))\n",
    "        plt.imshow(csd_grid,aspect='auto')\n",
    "        plt.axis('off')\n",
    "        \n",
    "        count += 1\n",
    "    \n",
    "    # plt.subplots_adjust(hspace=0.1, wspace=0.1)\n",
    "    plt.subplots_adjust(hspace=0.1, wspace=0.1)\n",
    "    plt.show()"
   ]
  }
 ],
 "metadata": {
  "language_info": {
   "codemirror_mode": {
    "name": "ipython",
    "version": 3
   },
   "file_extension": ".py",
   "mimetype": "text/x-python",
   "name": "python",
   "nbconvert_exporter": "python",
   "pygments_lexer": "ipython3",
   "version": 3
  },
  "orig_nbformat": 2
 },
 "nbformat": 4,
 "nbformat_minor": 2
}