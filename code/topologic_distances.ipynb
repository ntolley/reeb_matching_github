{
 "cells": [
  {
   "cell_type": "markdown",
   "metadata": {},
   "source": [
    "## Topologic Distances\n",
    "### Testing various distance metrics on scalar fields and reeb graph decompositions"
   ]
  },
  {
   "cell_type": "code",
   "execution_count": 1,
   "metadata": {},
   "outputs": [],
   "source": [
    "import numpy as np\n",
    "import os\n",
    "from os.path import isfile, join\n",
    "from os import listdir\n",
    "from mpl_toolkits import mplot3d\n",
    "import matplotlib.pyplot as plt\n",
    "import seaborn as sns\n",
    "import pandas as pd\n",
    "import csd_functions\n",
    "import scipy\n",
    "import networkx as nx\n",
    "import reeb_matching\n",
    "from copy import deepcopy\n",
    "import scipy.spatial.distance as ssd\n",
    "import scipy.cluster.hierarchy as hcluster\n",
    "import random\n",
    "from scipy.spatial.distance import directed_hausdorff\n",
    "sns.set()\n"
   ]
  },
  {
   "cell_type": "code",
   "execution_count": 2,
   "metadata": {},
   "outputs": [],
   "source": [
    "prefix = 'gbarEvPyrAmpa_sweep'\n",
    "\n",
    "data_dir = os.path.abspath('../lfp_reeb_github/data')\n",
    "name = ['gbarEvPyrAmpa_sweep10','gbarEvPyrAmpa_sweep9']\n",
    "\n",
    "R_points, _ = reeb_matching.load_tree(data_dir,prefix,name[0])\n",
    "S_points, _ = reeb_matching.load_tree(data_dir,prefix,name[1])"
   ]
  },
  {
   "cell_type": "code",
   "execution_count": 3,
   "metadata": {},
   "outputs": [],
   "source": [
    "def csd_sim_matrix(file_list, data_dir, prefix):\n",
    "    num_files = len(file_list)\n",
    "    similarity_matrix = np.empty((num_files,num_files))\n",
    "    for csd_row in range(num_files):\n",
    "        for csd_col in range(num_files):\n",
    "                R_path = data_dir[csd_row] + '/' + prefix[csd_row] + '/points/' + file_list[csd_row]\n",
    "                S_path = data_dir[csd_col] + '/' + prefix[csd_col] + '/points/' + file_list[csd_col]\n",
    "                \n",
    "                R_points, S_points = np.array(pd.read_csv(R_path)), np.array(pd.read_csv(S_path)) \n",
    "                Y1, Y2 = csd_functions.points2grid(R_points), csd_functions.points2grid(S_points)\n",
    "\n",
    "                similarity = max(directed_hausdorff(R_points, S_points)[0], directed_hausdorff(S_points, R_points)[0])\n",
    "\n",
    "                similarity_matrix[csd_row,csd_col] = similarity\n",
    "                print(csd_row,csd_col,'w_sim = ', similarity)\n",
    "\n",
    "def reeb_sim_matrix(file_list, data_dir, prefix):\n",
    "    num_files = len(file_list)\n",
    "    similarity_matrix = np.empty((num_files,num_files))\n",
    "\n",
    "    for tree_row in range(num_files):\n",
    "        for tree_col in range(num_files):\n",
    "                R_points, _ = reeb_matching.load_tree(data_dir[tree_row],prefix[tree_row],file_list[tree_row])\n",
    "                # R = reeb_matching.make_graph(R_points,R_connectivity)\n",
    "\n",
    "                S_points, _ = reeb_matching.load_tree(data_dir[tree_col],prefix[tree_col],file_list[tree_col])\n",
    "                # S = reeb_matching.make_graph(S_points,S_connectivity)\n",
    "\n",
    "                similarity = max(directed_hausdorff(R_points,S_points)[0], directed_hausdorff(S_points,R_points)[0])\n",
    "                similarity_matrix[tree_row,tree_col] = similarity\n",
    "\n",
    "                print(tree_row,tree_col,'tree_sim = ', similarity)\n",
    "                # print(MPAIR)\n",
    "\n",
    "    return similarity_matrix\n",
    "\n"
   ]
  },
  {
   "cell_type": "code",
   "execution_count": 4,
   "metadata": {
    "tags": [
     "outputPrepend"
    ]
   },
   "outputs": [
    {
     "output_type": "stream",
     "name": "stdout",
     "text": "061128\n158 120 tree_sim =  135.00709081383172\n158 121 tree_sim =  141.0000001614379\n158 122 tree_sim =  87.00002064581297\n158 123 tree_sim =  111.00000216258334\n158 124 tree_sim =  141.0000001351068\n158 125 tree_sim =  141.00000003166195\n158 126 tree_sim =  105.00000000485892\n158 127 tree_sim =  87.55569887423631\n158 128 tree_sim =  141.0000001266546\n158 129 tree_sim =  84.00002288495763\n158 130 tree_sim =  84.38602738706608\n158 131 tree_sim =  100.00001185524455\n158 132 tree_sim =  73.17103491163653\n158 133 tree_sim =  75.69016267458179\n158 134 tree_sim =  141.00000008296578\n158 135 tree_sim =  93.17188701188651\n158 136 tree_sim =  151.0099336235014\n158 137 tree_sim =  74.00000090620829\n158 138 tree_sim =  141.00000007673782\n158 139 tree_sim =  83.0000267129678\n158 140 tree_sim =  101.24235169856203\n158 141 tree_sim =  141.00000016265278\n158 142 tree_sim =  58.83026432710665\n158 143 tree_sim =  68.7313611240461\n158 144 tree_sim =  93.0859821856281\n158 145 tree_sim =  105.00000002028494\n158 146 tree_sim =  141.00000002934198\n158 147 tree_sim =  102.00003096888587\n158 148 tree_sim =  83.00002712570131\n158 149 tree_sim =  126.00000796869202\n158 150 tree_sim =  105.0000000855486\n158 151 tree_sim =  111.00000465971394\n158 152 tree_sim =  141.00000003411049\n158 153 tree_sim =  112.00446440612232\n158 154 tree_sim =  121.00005350939657\n158 155 tree_sim =  105.0000000414245\n158 156 tree_sim =  100.16986046516233\n158 157 tree_sim =  100.00003532570396\n158 158 tree_sim =  0.0\n158 159 tree_sim =  111.00001007819981\n158 160 tree_sim =  107.20074657674235\n158 161 tree_sim =  100.00001196791847\n159 0 tree_sim =  174.64249259750113\n159 1 tree_sim =  174.64249272268142\n159 2 tree_sim =  174.64249227764924\n159 3 tree_sim =  142.00352110202016\n159 4 tree_sim =  174.64249226827926\n159 5 tree_sim =  174.6424922859002\n159 6 tree_sim =  174.6424922859875\n159 7 tree_sim =  119.00000030020811\n159 8 tree_sim =  174.64249227971047\n159 9 tree_sim =  105.00000000005024\n159 10 tree_sim =  174.64249225054874\n159 11 tree_sim =  174.64249226492225\n159 12 tree_sim =  174.64249248193985\n159 13 tree_sim =  174.64249226599566\n159 14 tree_sim =  174.6424922578603\n159 15 tree_sim =  174.64249227241464\n159 16 tree_sim =  174.64249227350166\n159 17 tree_sim =  174.64249225237546\n159 18 tree_sim =  174.6424922667945\n159 19 tree_sim =  134.1342610975866\n159 20 tree_sim =  174.64249264217526\n159 21 tree_sim =  174.6424927517622\n159 22 tree_sim =  174.64249274564992\n159 23 tree_sim =  143.37712859530467\n159 24 tree_sim =  143.37712832563807\n159 25 tree_sim =  174.6424927602672\n159 26 tree_sim =  174.64249275412118\n159 27 tree_sim =  174.64249264886217\n159 28 tree_sim =  174.64249275897114\n159 29 tree_sim =  160.86329743788633\n159 30 tree_sim =  174.64249226009744\n159 31 tree_sim =  174.642492279712\n159 32 tree_sim =  174.64249227895897\n159 33 tree_sim =  174.64249226166743\n159 34 tree_sim =  174.6424927647276\n159 35 tree_sim =  174.6424922813334\n159 36 tree_sim =  174.6424922805791\n159 37 tree_sim =  174.64249226143727\n159 38 tree_sim =  174.64249228109622\n159 39 tree_sim =  174.64249228034106\n159 40 tree_sim =  174.64249225056426\n159 41 tree_sim =  174.6424922649014\n159 42 tree_sim =  158.68522316315224\n159 43 tree_sim =  174.6424922519978\n159 44 tree_sim =  174.64249226636989\n159 45 tree_sim =  174.642492516876\n159 46 tree_sim =  174.64249226718402\n159 47 tree_sim =  174.64249225178824\n159 48 tree_sim =  174.64249226615513\n159 49 tree_sim =  142.0035211111945\n159 50 tree_sim =  143.37712829921892\n159 51 tree_sim =  174.64249274782827\n159 52 tree_sim =  174.6424927467329\n159 53 tree_sim =  143.37712831620823\n159 54 tree_sim =  174.64249275651187\n159 55 tree_sim =  174.64249275546047\n159 56 tree_sim =  174.64249260708212\n159 57 tree_sim =  142.00352131336032\n159 58 tree_sim =  174.642492755156\n159 59 tree_sim =  174.64249275408977\n159 60 tree_sim =  174.64249225985947\n159 61 tree_sim =  174.6424922794433\n159 62 tree_sim =  174.64249227869084\n159 63 tree_sim =  174.64249226147066\n159 64 tree_sim =  105.00949994440106\n159 65 tree_sim =  142.00352109974762\n159 66 tree_sim =  174.64249226122652\n159 67 tree_sim =  174.64249273309633\n159 68 tree_sim =  174.64249228085401\n159 69 tree_sim =  174.64249228009982\n159 70 tree_sim =  142.0035211228019\n159 71 tree_sim =  174.64249226466475\n159 72 tree_sim =  174.64249226547577\n159 73 tree_sim =  174.64249225182263\n159 74 tree_sim =  174.64249226617187\n159 75 tree_sim =  174.64249226698539\n159 76 tree_sim =  174.64249225159887\n159 77 tree_sim =  174.64249226594347\n159 78 tree_sim =  174.64249249058696\n159 79 tree_sim =  119.00000024829244\n159 80 tree_sim =  174.6424922602601\n159 81 tree_sim =  116.00002134615589\n159 82 tree_sim =  105.00000000005028\n159 83 tree_sim =  105.0000000000503\n159 84 tree_sim =  105.0000000000499\n159 85 tree_sim =  174.64249202029322\n159 86 tree_sim =  108.00000047714909\n159 87 tree_sim =  119.00000088043286\n159 88 tree_sim =  174.6424920269348\n159 89 tree_sim =  174.6424921083601\n159 90 tree_sim =  105.00000000004985\n159 91 tree_sim =  174.64249198982378\n159 92 tree_sim =  140.1320822241544\n159 93 tree_sim =  105.0000000000499\n159 94 tree_sim =  116.00000073831221\n159 95 tree_sim =  141.35416700709547\n159 96 tree_sim =  119.00000117495311\n159 97 tree_sim =  116.00000097012587\n159 98 tree_sim =  174.6424920203226\n159 99 tree_sim =  118.07202319482676\n159 100 tree_sim =  116.00000096364145\n159 101 tree_sim =  165.42369977787223\n159 102 tree_sim =  117.00000100700866\n159 103 tree_sim =  105.00000000004988\n159 104 tree_sim =  116.000025639374\n159 105 tree_sim =  141.03900422093713\n159 106 tree_sim =  116.00000120025736\n159 107 tree_sim =  116.00000097266803\n159 108 tree_sim =  174.6424920279791\n159 109 tree_sim =  105.0000000000502\n159 110 tree_sim =  116.00000097162314\n159 111 tree_sim =  146.4138092266283\n159 112 tree_sim =  107.0092841293192\n159 113 tree_sim =  105.00000000004991\n159 114 tree_sim =  139.0000112466824\n159 115 tree_sim =  109.00000005301398\n159 116 tree_sim =  105.00000000005028\n159 117 tree_sim =  107.00928991057538\n159 118 tree_sim =  174.64249201244442\n159 119 tree_sim =  107.00928472757391\n159 120 tree_sim =  116.00000101959519\n159 121 tree_sim =  174.6424919923833\n159 122 tree_sim =  107.00928911120576\n159 123 tree_sim =  107.00929406012638\n159 124 tree_sim =  174.64249200337005\n159 125 tree_sim =  174.6424920985176\n159 126 tree_sim =  105.00000000004985\n159 127 tree_sim =  116.00000098884867\n159 128 tree_sim =  174.64249200755359\n159 129 tree_sim =  116.00000122568291\n159 130 tree_sim =  116.00000098746068\n159 131 tree_sim =  146.01370548416992\n159 132 tree_sim =  130.00000031899856\n159 133 tree_sim =  105.00000000004988\n159 134 tree_sim =  174.64249203620534\n159 135 tree_sim =  116.00000115192286\n159 136 tree_sim =  171.81967298852507\n159 137 tree_sim =  141.35416674820303\n159 138 tree_sim =  174.64249204156164\n159 139 tree_sim =  116.00000114981988\n159 140 tree_sim =  116.00000092994092\n159 141 tree_sim =  174.64249199194242\n159 142 tree_sim =  116.00000115691205\n159 143 tree_sim =  111.00004860512757\n159 144 tree_sim =  141.039004224875\n159 145 tree_sim =  107.00929934528334\n159 146 tree_sim =  174.6424921029035\n159 147 tree_sim =  119.00002136012938\n159 148 tree_sim =  105.00000000005024\n159 149 tree_sim =  107.00929940535507\n159 150 tree_sim =  105.00000000004988\n159 151 tree_sim =  141.0390048018273\n159 152 tree_sim =  174.64249209413276\n159 153 tree_sim =  105.0000000000499\n159 154 tree_sim =  107.00917633875014\n159 155 tree_sim =  107.00930413945159\n159 156 tree_sim =  125.3993750547652\n159 157 tree_sim =  107.00917751317438\n159 158 tree_sim =  111.00001007819981\n159 159 tree_sim =  0.0\n159 160 tree_sim =  143.01048946316618\n159 161 tree_sim =  146.41380923038636\n160 0 tree_sim =  133.40541995496963\n160 1 tree_sim =  137.13132397591943\n160 2 tree_sim =  114.7693424051078\n160 3 tree_sim =  127.58135307998236\n160 4 tree_sim =  124.86793525598057\n160 5 tree_sim =  129.27490354651619\n160 6 tree_sim =  129.27490314765208\n160 7 tree_sim =  128.14054974350572\n160 8 tree_sim =  127.88276140352548\n160 9 tree_sim =  129.2749028034157\n160 10 tree_sim =  109.45775444956105\n160 11 tree_sim =  137.7679230690683\n160 12 tree_sim =  137.13132410320827\n160 13 tree_sim =  136.05881085304244\n160 14 tree_sim =  122.00000226288807\n160 15 tree_sim =  118.20745671337193\n160 16 tree_sim =  136.69308863857265\n160 17 tree_sim =  106.6770834576309\n160 18 tree_sim =  121.80312118220131\n160 19 tree_sim =  125.22780293070778\n160 20 tree_sim =  107.0186973491625\n160 21 tree_sim =  108.189651513614\n160 22 tree_sim =  123.30856464295746\n160 23 tree_sim =  115.55087048086843\n160 24 tree_sim =  106.79420097550597\n160 25 tree_sim =  123.30855676784891\n160 26 tree_sim =  130.43006575473154\n160 27 tree_sim =  118.06777716735527\n160 28 tree_sim =  111.62887255501346\n160 29 tree_sim =  146.41380854689328\n160 30 tree_sim =  133.40540615787194\n160 31 tree_sim =  137.76792257453837\n160 32 tree_sim =  117.0982511618153\n160 33 tree_sim =  134.0149261576298\n160 34 tree_sim =  131.60548016776573\n160 35 tree_sim =  114.00001496768776\n160 36 tree_sim =  103.48429849498545\n160 37 tree_sim =  134.01492566505902\n160 38 tree_sim =  124.52309022931586\n160 39 tree_sim =  146.41379751163512\n160 40 tree_sim =  111.01802129685669\n160 41 tree_sim =  113.65298664244098\n160 42 tree_sim =  137.7679224068401\n160 43 tree_sim =  111.62885565522038\n160 44 tree_sim =  131.01526677793206\n160 45 tree_sim =  118.06777737589819\n160 46 tree_sim =  131.01526664510314\n160 47 tree_sim =  134.0149256254259\n160 48 tree_sim =  106.67708418672274\n160 49 tree_sim =  134.01492455809725\n160 50 tree_sim =  112.27200535049982\n160 51 tree_sim =  129.84991381490124\n160 52 tree_sim =  110.00000430753012\n160 53 tree_sim =  116.0000033344168\n160 54 tree_sim =  123.16657170925338\n160 55 tree_sim =  146.41380444662946\n160 56 tree_sim =  133.40540047589974\n160 57 tree_sim =  133.2066094335863\n160 58 tree_sim =  107.35455615749683\n160 59 tree_sim =  106.23088186076158\n160 60 tree_sim =  133.40540614558446\n160 61 tree_sim =  137.76792256715478\n160 62 tree_sim =  137.76792198575467\n160 63 tree_sim =  129.27490608769563\n160 64 tree_sim =  130.43005836093576\n160 65 tree_sim =  137.76792081622716\n160 66 tree_sim =  134.01492572482957\n160 67 tree_sim =  131.0152765882062\n160 68 tree_sim =  99.72462586629491\n160 69 tree_sim =  111.6288557555102\n160 70 tree_sim =  137.13133140823737\n160 71 tree_sim =  123.30856255055264\n160 72 tree_sim =  114.00441336289272\n160 73 tree_sim =  134.01492612020618\n160 74 tree_sim =  131.01526674507755\n160 75 tree_sim =  131.01526661803356\n160 76 tree_sim =  112.41441712553734\n160 77 tree_sim =  106.67708504219975\n160 78 tree_sim =  129.27490139523613\n160 79 tree_sim =  134.0149245657802\n160 80 tree_sim =  111.64676457376305\n160 81 tree_sim =  146.00000259006737\n160 82 tree_sim =  143.0104905675108\n160 83 tree_sim =  154.08116560948025\n160 84 tree_sim =  134.6291212708487\n160 85 tree_sim =  135.2479362006452\n160 86 tree_sim =  106.02358228941975\n160 87 tree_sim =  138.40881501472228\n160 88 tree_sim =  124.34233865787337\n160 89 tree_sim =  138.40881533835295\n160 90 tree_sim =  125.39937363449836\n160 91 tree_sim =  112.25863553279275\n160 92 tree_sim =  100.0000028645654\n160 93 tree_sim =  143.01048988495774\n160 94 tree_sim =  100.00000264751769\n160 95 tree_sim =  114.76936211359715\n160 96 tree_sim =  147.00000371023586\n160 97 tree_sim =  106.02358230841355\n160 98 tree_sim =  136.4991174473694\n160 99 tree_sim =  117.00000097076497\n160 100 tree_sim =  117.00000100840293\n160 101 tree_sim =  127.58141337859786\n160 102 tree_sim =  147.0000010423161\n160 103 tree_sim =  143.01048994282544\n160 104 tree_sim =  124.34233671887341\n160 105 tree_sim =  137.76793679480423\n160 106 tree_sim =  138.40881485539308\n160 107 tree_sim =  125.39937411379088\n160 108 tree_sim =  134.62914382374703\n160 109 tree_sim =  125.39937522119588\n160 110 tree_sim =  117.00000096542601\n160 111 tree_sim =  146.0000012224834\n160 112 tree_sim =  121.00000033303333\n160 113 tree_sim =  117.0000006525245\n160 114 tree_sim =  124.34233683029467\n160 115 tree_sim =  138.40881486415157\n160 116 tree_sim =  145.7737975074634\n160 117 tree_sim =  125.93650307080726\n160 118 tree_sim =  141.0141991101413\n160 119 tree_sim =  163.00001244112886\n160 120 tree_sim =  80.22468502993453\n160 121 tree_sim =  134.01493154607218\n160 122 tree_sim =  127.58135710453436\n160 123 tree_sim =  143.01048997300023\n160 124 tree_sim =  96.00000208452761\n160 125 tree_sim =  125.93650329095367\n160 126 tree_sim =  138.408814932947\n160 127 tree_sim =  125.3993739864217\n160 128 tree_sim =  136.49911932132952\n160 129 tree_sim =  125.93650344186638\n160 130 tree_sim =  125.39937426333974\n160 131 tree_sim =  135.24792657498384\n160 132 tree_sim =  117.00000061874897\n160 133 tree_sim =  117.00000067504452\n160 134 tree_sim =  124.34234131207393\n160 135 tree_sim =  117.00000079455604\n160 136 tree_sim =  148.7581931960931\n160 137 tree_sim =  118.06778673790112\n160 138 tree_sim =  124.34233873610292\n160 139 tree_sim =  125.399375652327\n160 140 tree_sim =  125.93650305439579\n160 141 tree_sim =  127.58140438541585\n160 142 tree_sim =  99.2018161733536\n160 143 tree_sim =  106.23088066388274\n160 144 tree_sim =  124.342348459643\n160 145 tree_sim =  138.40881488250994\n160 146 tree_sim =  125.39937555717752\n160 147 tree_sim =  136.49911238423806\n160 148 tree_sim =  125.39937589215575\n160 149 tree_sim =  158.68522311264047\n160 150 tree_sim =  138.40881530365849\n160 151 tree_sim =  146.00000195603297\n160 152 tree_sim =  107.20074661021394\n160 153 tree_sim =  120.83046361799454\n160 154 tree_sim =  139.9178431660784\n160 155 tree_sim =  138.40881484633195\n160 156 tree_sim =  85.88365376235882\n160 157 tree_sim =  135.24795193932408\n160 158 tree_sim =  107.20074657674235\n160 159 tree_sim =  143.01048946316618\n160 160 tree_sim =  0.0\n160 161 tree_sim =  135.2479266443625\n161 0 tree_sim =  71.06347982021747\n161 1 tree_sim =  118.00000252523088\n161 2 tree_sim =  111.41364393877942\n161 3 tree_sim =  115.52061466985573\n161 4 tree_sim =  95.7705602261548\n161 5 tree_sim =  103.61949752171905\n161 6 tree_sim =  105.75921358649762\n161 7 tree_sim =  106.3344017950925\n161 8 tree_sim =  132.09845136111036\n161 9 tree_sim =  90.60910337376161\n161 10 tree_sim =  110.92339761908586\n161 11 tree_sim =  104.00000060930573\n161 12 tree_sim =  78.39005227381466\n161 13 tree_sim =  136.6199149766282\n161 14 tree_sim =  128.3900346208219\n161 15 tree_sim =  125.15989774427695\n161 16 tree_sim =  104.00000060930573\n161 17 tree_sim =  111.44954216631018\n161 18 tree_sim =  131.46867319934543\n161 19 tree_sim =  134.26094001514585\n161 20 tree_sim =  112.6055411193051\n161 21 tree_sim =  114.28482949723526\n161 22 tree_sim =  94.36669396913179\n161 23 tree_sim =  94.40339068785119\n161 24 tree_sim =  84.00015473698711\n161 25 tree_sim =  113.00000000000124\n161 26 tree_sim =  70.00022453206292\n161 27 tree_sim =  75.27283985127136\n161 28 tree_sim =  99.9249916084704\n161 29 tree_sim =  77.92953897749115\n161 30 tree_sim =  108.52189577449411\n161 31 tree_sim =  136.20939994305795\n161 32 tree_sim =  118.6001714945662\n161 33 tree_sim =  114.0000149595561\n161 34 tree_sim =  90.21167842869525\n161 35 tree_sim =  122.00000226265381\n161 36 tree_sim =  100.56844763114307\n161 37 tree_sim =  120.61510022880898\n161 38 tree_sim =  114.0000149595561\n161 39 tree_sim =  136.47344554612386\n161 40 tree_sim =  103.0000012054017\n161 41 tree_sim =  103.0000012054017\n161 42 tree_sim =  142.08800297815648\n161 43 tree_sim =  119.94165299571834\n161 44 tree_sim =  110.00954902614784\n161 45 tree_sim =  76.55731951948886\n161 46 tree_sim =  103.0000012054017\n161 47 tree_sim =  103.0000012054017\n161 48 tree_sim =  96.42623439391755\n161 49 tree_sim =  103.0000012054017\n161 50 tree_sim =  108.97706242996168\n161 51 tree_sim =  78.43474826161938\n161 52 tree_sim =  72.01393801619457\n161 53 tree_sim =  116.00000333061254\n161 54 tree_sim =  90.13878990892617\n161 55 tree_sim =  96.0052201405978\n161 56 tree_sim =  100.02000024092015\n161 57 tree_sim =  107.38251722287093\n161 58 tree_sim =  127.00739857450539\n161 59 tree_sim =  96.00522020705392\n161 60 tree_sim =  111.0000000675693\n161 61 tree_sim =  99.20181550678484\n161 62 tree_sim =  103.0000012971323\n161 63 tree_sim =  106.62551465391697\n161 64 tree_sim =  111.0000000675693\n161 65 tree_sim =  103.07767286295005\n161 66 tree_sim =  104.67568963960632\n161 67 tree_sim =  96.00522038625024\n161 68 tree_sim =  103.39246124806462\n161 69 tree_sim =  107.68938552975791\n161 70 tree_sim =  111.00000013351315\n161 71 tree_sim =  112.71313044131695\n161 72 tree_sim =  130.06152516120991\n161 73 tree_sim =  111.00000013351315\n161 74 tree_sim =  119.85408060190274\n161 75 tree_sim =  111.00000013351315\n161 76 tree_sim =  109.85900106845233\n161 77 tree_sim =  97.32420163017649\n161 78 tree_sim =  92.34717158158132\n161 79 tree_sim =  111.00000013351315\n161 80 tree_sim =  117.04699918984178\n161 81 tree_sim =  77.00649796323408\n161 82 tree_sim =  110.00954902614784\n161 83 tree_sim =  161.30719833735463\n161 84 tree_sim =  129.71123132000622\n161 85 tree_sim =  71.5892237830735\n161 86 tree_sim =  126.2893605316277\n161 87 tree_sim =  80.05623027580826\n161 88 tree_sim =  87.04597036138135\n161 89 tree_sim =  118.51160281760404\n161 90 tree_sim =  109.60384944727905\n161 91 tree_sim =  94.00004824705637\n161 92 tree_sim =  103.81714708234531\n161 93 tree_sim =  98.18350253446725\n161 94 tree_sim =  118.60016906758378\n161 95 tree_sim =  64.32728901500886\n161 96 tree_sim =  109.00000518104508\n161 97 tree_sim =  98.4784241965247\n161 98 tree_sim =  96.00533284710244\n161 99 tree_sim =  127.00739857450539\n161 100 tree_sim =  86.00000064810314\n161 101 tree_sim =  58.52353893449633\n161 102 tree_sim =  114.98260812434367\n161 103 tree_sim =  88.00001411499032\n161 104 tree_sim =  81.60882579705095\n161 105 tree_sim =  64.00781420025935\n161 106 tree_sim =  115.43396381534758\n161 107 tree_sim =  79.07601930052859\n161 108 tree_sim =  78.92409310424749\n161 109 tree_sim =  160.00000798120507\n161 110 tree_sim =  93.64827913843418\n161 111 tree_sim =  76.15773758657446\n161 112 tree_sim =  121.00000033185685\n161 113 tree_sim =  127.00837952042984\n161 114 tree_sim =  64.38167526067026\n161 115 tree_sim =  85.37565000760912\n161 116 tree_sim =  156.16978508553996\n161 117 tree_sim =  95.80188087789703\n161 118 tree_sim =  83.0963991591807\n161 119 tree_sim =  174.8971174713962\n161 120 tree_sim =  127.00739857450539\n161 121 tree_sim =  69.02898804403291\n161 122 tree_sim =  108.23125490775104\n161 123 tree_sim =  92.08691571086686\n161 124 tree_sim =  79.70570876227616\n161 125 tree_sim =  95.04737220431684\n161 126 tree_sim =  97.94897389574781\n161 127 tree_sim =  108.00000416563994\n161 128 tree_sim =  78.92409258943258\n161 129 tree_sim =  69.02897957289704\n161 130 tree_sim =  104.38870543739766\n161 131 tree_sim =  75.70997456195266\n161 132 tree_sim =  74.24960398712193\n161 133 tree_sim =  89.27485691697896\n161 134 tree_sim =  59.20304079546501\n161 135 tree_sim =  92.54188628775536\n161 136 tree_sim =  158.95911988562509\n161 137 tree_sim =  71.86795282135517\n161 138 tree_sim =  79.00000001432001\n161 139 tree_sim =  75.02666202077194\n161 140 tree_sim =  105.58884242757821\n161 141 tree_sim =  99.14131369837355\n161 142 tree_sim =  123.00000004468953\n161 143 tree_sim =  91.0000080131773\n161 144 tree_sim =  71.30936748303142\n161 145 tree_sim =  106.89248006370144\n161 146 tree_sim =  86.64871612742411\n161 147 tree_sim =  70.3491318440859\n161 148 tree_sim =  102.1763186115006\n161 149 tree_sim =  167.03594128351185\n161 150 tree_sim =  160.0000081271166\n161 151 tree_sim =  78.00000002979124\n161 152 tree_sim =  100.0000121784281\n161 153 tree_sim =  90.97253909697221\n161 154 tree_sim =  151.00333748925823\n161 155 tree_sim =  100.0050003713294\n161 156 tree_sim =  127.581407222887\n161 157 tree_sim =  88.75248214536599\n161 158 tree_sim =  100.00001196791847\n161 159 tree_sim =  146.41380923038636\n161 160 tree_sim =  135.2479266443625\n161 161 tree_sim =  0.0\n"
    },
    {
     "output_type": "error",
     "ename": "NameError",
     "evalue": "name 'MPAIR_list' is not defined",
     "traceback": [
      "\u001b[0;31m---------------------------------------------------------------------------\u001b[0m",
      "\u001b[0;31mNameError\u001b[0m                                 Traceback (most recent call last)",
      "\u001b[0;32m<ipython-input-4-a639d2437445>\u001b[0m in \u001b[0;36m<module>\u001b[0;34m\u001b[0m\n\u001b[1;32m      8\u001b[0m \u001b[0mdata_dir_array\u001b[0m \u001b[0;34m=\u001b[0m \u001b[0mnp\u001b[0m\u001b[0;34m.\u001b[0m\u001b[0mrepeat\u001b[0m\u001b[0;34m(\u001b[0m\u001b[0mdata_dir\u001b[0m\u001b[0;34m,\u001b[0m \u001b[0mlen\u001b[0m\u001b[0;34m(\u001b[0m\u001b[0mfile_list\u001b[0m\u001b[0;34m)\u001b[0m\u001b[0;34m)\u001b[0m\u001b[0;34m\u001b[0m\u001b[0;34m\u001b[0m\u001b[0m\n\u001b[1;32m      9\u001b[0m \u001b[0mprefix_array\u001b[0m \u001b[0;34m=\u001b[0m \u001b[0mnp\u001b[0m\u001b[0;34m.\u001b[0m\u001b[0mrepeat\u001b[0m\u001b[0;34m(\u001b[0m\u001b[0mprefix\u001b[0m\u001b[0;34m,\u001b[0m \u001b[0;34m[\u001b[0m\u001b[0mlen\u001b[0m\u001b[0;34m(\u001b[0m\u001b[0mflist1\u001b[0m\u001b[0;34m)\u001b[0m\u001b[0;34m,\u001b[0m \u001b[0mlen\u001b[0m\u001b[0;34m(\u001b[0m\u001b[0mflist2\u001b[0m\u001b[0;34m)\u001b[0m\u001b[0;34m]\u001b[0m\u001b[0;34m)\u001b[0m\u001b[0;34m\u001b[0m\u001b[0;34m\u001b[0m\u001b[0m\n\u001b[0;32m---> 10\u001b[0;31m \u001b[0msimilarity_matrix\u001b[0m \u001b[0;34m=\u001b[0m \u001b[0mreeb_sim_matrix\u001b[0m\u001b[0;34m(\u001b[0m\u001b[0mfile_list\u001b[0m\u001b[0;34m,\u001b[0m \u001b[0mdata_dir_array\u001b[0m\u001b[0;34m,\u001b[0m \u001b[0mprefix_array\u001b[0m\u001b[0;34m)\u001b[0m\u001b[0;34m\u001b[0m\u001b[0;34m\u001b[0m\u001b[0m\n\u001b[0m",
      "\u001b[0;32m<ipython-input-3-b800a53505f4>\u001b[0m in \u001b[0;36mreeb_sim_matrix\u001b[0;34m(file_list, data_dir, prefix)\u001b[0m\n\u001b[1;32m     33\u001b[0m                 \u001b[0;31m# print(MPAIR)\u001b[0m\u001b[0;34m\u001b[0m\u001b[0;34m\u001b[0m\u001b[0;34m\u001b[0m\u001b[0m\n\u001b[1;32m     34\u001b[0m \u001b[0;34m\u001b[0m\u001b[0m\n\u001b[0;32m---> 35\u001b[0;31m     \u001b[0;32mreturn\u001b[0m \u001b[0msimilarity_matrix\u001b[0m\u001b[0;34m,\u001b[0m \u001b[0mMPAIR_list\u001b[0m\u001b[0;34m\u001b[0m\u001b[0;34m\u001b[0m\u001b[0m\n\u001b[0m\u001b[1;32m     36\u001b[0m \u001b[0;34m\u001b[0m\u001b[0m\n",
      "\u001b[0;31mNameError\u001b[0m: name 'MPAIR_list' is not defined"
     ]
    }
   ],
   "source": [
    "#Files to operate on\n",
    "prefix = ['gbarEvPyrAmpa_sweep','gbarEvPyrAmpa_reversed_inputs']\n",
    "\n",
    "flist1 = reeb_matching.get_skeleton_names(data_dir + '/' + prefix[0] + '/' + 'skeleton/') \n",
    "flist2 = reeb_matching.get_skeleton_names(data_dir + '/' + prefix[1] + '/' + 'skeleton/')\n",
    "file_list = np.concatenate([flist1,flist2])\n",
    "\n",
    "data_dir_array = np.repeat(data_dir, len(file_list))\n",
    "prefix_array = np.repeat(prefix, [len(flist1), len(flist2)])\n",
    "similarity_matrix = reeb_sim_matrix(file_list, data_dir_array, prefix_array)"
   ]
  },
  {
   "cell_type": "code",
   "execution_count": 5,
   "metadata": {},
   "outputs": [
    {
     "output_type": "error",
     "ename": "NameError",
     "evalue": "name 'similarity_matrix' is not defined",
     "traceback": [
      "\u001b[0;31m---------------------------------------------------------------------------\u001b[0m",
      "\u001b[0;31mNameError\u001b[0m                                 Traceback (most recent call last)",
      "\u001b[0;32m<ipython-input-5-0594b3e9d0d0>\u001b[0m in \u001b[0;36m<module>\u001b[0;34m\u001b[0m\n\u001b[1;32m      1\u001b[0m \u001b[0;31m#Make symmetric wrt upper triangle\u001b[0m\u001b[0;34m\u001b[0m\u001b[0;34m\u001b[0m\u001b[0;34m\u001b[0m\u001b[0m\n\u001b[0;32m----> 2\u001b[0;31m \u001b[0mi_lower\u001b[0m \u001b[0;34m=\u001b[0m \u001b[0mnp\u001b[0m\u001b[0;34m.\u001b[0m\u001b[0mtril_indices\u001b[0m\u001b[0;34m(\u001b[0m\u001b[0msimilarity_matrix\u001b[0m\u001b[0;34m.\u001b[0m\u001b[0mshape\u001b[0m\u001b[0;34m[\u001b[0m\u001b[0;36m0\u001b[0m\u001b[0;34m]\u001b[0m\u001b[0;34m,\u001b[0m \u001b[0;34m-\u001b[0m\u001b[0;36m1\u001b[0m\u001b[0;34m)\u001b[0m\u001b[0;34m\u001b[0m\u001b[0;34m\u001b[0m\u001b[0m\n\u001b[0m\u001b[1;32m      3\u001b[0m \u001b[0msimilarity_matrix\u001b[0m\u001b[0;34m[\u001b[0m\u001b[0mi_lower\u001b[0m\u001b[0;34m]\u001b[0m \u001b[0;34m=\u001b[0m \u001b[0msimilarity_matrix\u001b[0m\u001b[0;34m.\u001b[0m\u001b[0mT\u001b[0m\u001b[0;34m[\u001b[0m\u001b[0mi_lower\u001b[0m\u001b[0;34m]\u001b[0m\u001b[0;34m\u001b[0m\u001b[0;34m\u001b[0m\u001b[0m\n\u001b[1;32m      4\u001b[0m \u001b[0;34m\u001b[0m\u001b[0m\n",
      "\u001b[0;31mNameError\u001b[0m: name 'similarity_matrix' is not defined"
     ]
    }
   ],
   "source": [
    "\n",
    "#Make symmetric wrt upper triangle\n",
    "i_lower = np.tril_indices(similarity_matrix.shape[0], -1)\n",
    "similarity_matrix[i_lower] = similarity_matrix.T[i_lower]\n",
    "\n"
   ]
  },
  {
   "cell_type": "code",
   "execution_count": 6,
   "metadata": {},
   "outputs": [
    {
     "output_type": "error",
     "ename": "NameError",
     "evalue": "name 'similarity_matrix' is not defined",
     "traceback": [
      "\u001b[0;31m---------------------------------------------------------------------------\u001b[0m",
      "\u001b[0;31mNameError\u001b[0m                                 Traceback (most recent call last)",
      "\u001b[0;32m<ipython-input-6-4707a7e47493>\u001b[0m in \u001b[0;36m<module>\u001b[0;34m\u001b[0m\n\u001b[1;32m      2\u001b[0m \u001b[0mplt\u001b[0m\u001b[0;34m.\u001b[0m\u001b[0mfigure\u001b[0m\u001b[0;34m(\u001b[0m\u001b[0mfigsize\u001b[0m\u001b[0;34m=\u001b[0m\u001b[0;34m(\u001b[0m\u001b[0;36m5\u001b[0m\u001b[0;34m,\u001b[0m\u001b[0;36m5\u001b[0m\u001b[0;34m)\u001b[0m\u001b[0;34m)\u001b[0m\u001b[0;34m\u001b[0m\u001b[0;34m\u001b[0m\u001b[0m\n\u001b[1;32m      3\u001b[0m \u001b[0msns\u001b[0m\u001b[0;34m.\u001b[0m\u001b[0mset_style\u001b[0m\u001b[0;34m(\u001b[0m\u001b[0;34m'darkgrid'\u001b[0m\u001b[0;34m,\u001b[0m\u001b[0;34m{\u001b[0m\u001b[0;34m'axes.grid'\u001b[0m \u001b[0;34m:\u001b[0m \u001b[0;32mFalse\u001b[0m\u001b[0;34m}\u001b[0m\u001b[0;34m)\u001b[0m\u001b[0;34m\u001b[0m\u001b[0;34m\u001b[0m\u001b[0m\n\u001b[0;32m----> 4\u001b[0;31m \u001b[0mplt\u001b[0m\u001b[0;34m.\u001b[0m\u001b[0mimshow\u001b[0m\u001b[0;34m(\u001b[0m\u001b[0msimilarity_matrix\u001b[0m\u001b[0;34m)\u001b[0m\u001b[0;34m\u001b[0m\u001b[0;34m\u001b[0m\u001b[0m\n\u001b[0m\u001b[1;32m      5\u001b[0m \u001b[0mplt\u001b[0m\u001b[0;34m.\u001b[0m\u001b[0mtitle\u001b[0m\u001b[0;34m(\u001b[0m\u001b[0;34m'Topographic Similarity Matrix'\u001b[0m\u001b[0;34m)\u001b[0m\u001b[0;34m\u001b[0m\u001b[0;34m\u001b[0m\u001b[0m\n\u001b[1;32m      6\u001b[0m \u001b[0mplt\u001b[0m\u001b[0;34m.\u001b[0m\u001b[0mcolorbar\u001b[0m\u001b[0;34m(\u001b[0m\u001b[0;34m)\u001b[0m\u001b[0;34m\u001b[0m\u001b[0;34m\u001b[0m\u001b[0m\n",
      "\u001b[0;31mNameError\u001b[0m: name 'similarity_matrix' is not defined"
     ]
    }
   ],
   "source": [
    "%matplotlib inline\n",
    "plt.figure(figsize=(5,5))\n",
    "sns.set_style('darkgrid',{'axes.grid' : False})\n",
    "plt.imshow(similarity_matrix)\n",
    "plt.title('Topographic Similarity Matrix')\n",
    "plt.colorbar()\n",
    "plt.show()"
   ]
  },
  {
   "cell_type": "code",
   "execution_count": 7,
   "metadata": {},
   "outputs": [
    {
     "output_type": "error",
     "ename": "NameError",
     "evalue": "name 'similarity_matrix' is not defined",
     "traceback": [
      "\u001b[0;31m---------------------------------------------------------------------------\u001b[0m",
      "\u001b[0;31mNameError\u001b[0m                                 Traceback (most recent call last)",
      "\u001b[0;32m<ipython-input-7-6d0ba77fdff4>\u001b[0m in \u001b[0;36m<module>\u001b[0;34m\u001b[0m\n\u001b[1;32m      3\u001b[0m \u001b[0;31m#     similarity_matrix[i,i] = 0\u001b[0m\u001b[0;34m\u001b[0m\u001b[0;34m\u001b[0m\u001b[0;34m\u001b[0m\u001b[0m\n\u001b[1;32m      4\u001b[0m \u001b[0;34m\u001b[0m\u001b[0m\n\u001b[0;32m----> 5\u001b[0;31m \u001b[0mdistVec\u001b[0m \u001b[0;34m=\u001b[0m \u001b[0mssd\u001b[0m\u001b[0;34m.\u001b[0m\u001b[0msquareform\u001b[0m\u001b[0;34m(\u001b[0m\u001b[0msimilarity_matrix\u001b[0m\u001b[0;34m)\u001b[0m\u001b[0;34m\u001b[0m\u001b[0;34m\u001b[0m\u001b[0m\n\u001b[0m\u001b[1;32m      6\u001b[0m \u001b[0mlinkage\u001b[0m \u001b[0;34m=\u001b[0m \u001b[0mhcluster\u001b[0m\u001b[0;34m.\u001b[0m\u001b[0mlinkage\u001b[0m\u001b[0;34m(\u001b[0m\u001b[0mdistVec\u001b[0m\u001b[0;34m)\u001b[0m\u001b[0;34m\u001b[0m\u001b[0;34m\u001b[0m\u001b[0m\n\u001b[1;32m      7\u001b[0m \u001b[0mplt\u001b[0m\u001b[0;34m.\u001b[0m\u001b[0mfigure\u001b[0m\u001b[0;34m(\u001b[0m\u001b[0;34m)\u001b[0m\u001b[0;34m\u001b[0m\u001b[0;34m\u001b[0m\u001b[0m\n",
      "\u001b[0;31mNameError\u001b[0m: name 'similarity_matrix' is not defined"
     ]
    }
   ],
   "source": [
    "%matplotlib qt\n",
    "# for i in range(similarity_matrix.shape[0]):\n",
    "#     similarity_matrix[i,i] = 0\n",
    "\n",
    "distVec = ssd.squareform(similarity_matrix)\n",
    "linkage = hcluster.linkage(distVec)\n",
    "plt.figure()\n",
    "dendro  = hcluster.dendrogram(linkage)"
   ]
  },
  {
   "cell_type": "code",
   "execution_count": 8,
   "metadata": {},
   "outputs": [
    {
     "output_type": "error",
     "ename": "NameError",
     "evalue": "name 'linkage' is not defined",
     "traceback": [
      "\u001b[0;31m---------------------------------------------------------------------------\u001b[0m",
      "\u001b[0;31mNameError\u001b[0m                                 Traceback (most recent call last)",
      "\u001b[0;32m<ipython-input-8-abf8cc8e3993>\u001b[0m in \u001b[0;36m<module>\u001b[0;34m\u001b[0m\n\u001b[1;32m      1\u001b[0m \u001b[0mget_ipython\u001b[0m\u001b[0;34m(\u001b[0m\u001b[0;34m)\u001b[0m\u001b[0;34m.\u001b[0m\u001b[0mrun_line_magic\u001b[0m\u001b[0;34m(\u001b[0m\u001b[0;34m'matplotlib'\u001b[0m\u001b[0;34m,\u001b[0m \u001b[0;34m'inline'\u001b[0m\u001b[0;34m)\u001b[0m\u001b[0;34m\u001b[0m\u001b[0;34m\u001b[0m\u001b[0m\n\u001b[1;32m      2\u001b[0m \u001b[0;31m# cluster_indeces = hcluster.fcluster(linkage, t=4, criterion='maxclust')\u001b[0m\u001b[0;34m\u001b[0m\u001b[0;34m\u001b[0m\u001b[0;34m\u001b[0m\u001b[0m\n\u001b[0;32m----> 3\u001b[0;31m \u001b[0mcluster_indeces\u001b[0m \u001b[0;34m=\u001b[0m \u001b[0mhcluster\u001b[0m\u001b[0;34m.\u001b[0m\u001b[0mfcluster\u001b[0m\u001b[0;34m(\u001b[0m\u001b[0mlinkage\u001b[0m\u001b[0;34m,\u001b[0m \u001b[0mt\u001b[0m\u001b[0;34m=\u001b[0m\u001b[0;36m1.153\u001b[0m\u001b[0;34m,\u001b[0m \u001b[0mcriterion\u001b[0m\u001b[0;34m=\u001b[0m\u001b[0;34m'inconsistent'\u001b[0m\u001b[0;34m)\u001b[0m\u001b[0;34m\u001b[0m\u001b[0;34m\u001b[0m\u001b[0m\n\u001b[0m\u001b[1;32m      4\u001b[0m \u001b[0;34m\u001b[0m\u001b[0m\n\u001b[1;32m      5\u001b[0m \u001b[0mcluster_labels\u001b[0m \u001b[0;34m=\u001b[0m \u001b[0mnp\u001b[0m\u001b[0;34m.\u001b[0m\u001b[0munique\u001b[0m\u001b[0;34m(\u001b[0m\u001b[0mcluster_indeces\u001b[0m\u001b[0;34m)\u001b[0m\u001b[0;34m\u001b[0m\u001b[0;34m\u001b[0m\u001b[0m\n",
      "\u001b[0;31mNameError\u001b[0m: name 'linkage' is not defined"
     ]
    }
   ],
   "source": [
    "%matplotlib inline\n",
    "# cluster_indeces = hcluster.fcluster(linkage, t=4, criterion='maxclust')\n",
    "cluster_indeces = hcluster.fcluster(linkage, t=1.153, criterion='inconsistent')\n",
    "\n",
    "cluster_labels = np.unique(cluster_indeces)\n",
    "p_dir = ['../lfp_reeb_github/data/gbarEvPyrAmpa_sweep/points', '../lfp_reeb_github/data/gbarEvPyrAmpa_reversed_inputs/points']\n",
    "flist1, flist2 = np.array(os.listdir(p_dir[0])), np.array(os.listdir(p_dir[1]))\n",
    "p_dir_array = np.repeat(p_dir, [len(flist1),len(flist2)])\n",
    "file_list = np.concatenate([flist1,flist2])\n",
    "\n",
    "num_selection = 4\n",
    "\n",
    "cluster_labels\n"
   ]
  },
  {
   "cell_type": "code",
   "execution_count": 9,
   "metadata": {},
   "outputs": [
    {
     "output_type": "error",
     "ename": "NameError",
     "evalue": "name 'cluster_labels' is not defined",
     "traceback": [
      "\u001b[0;31m---------------------------------------------------------------------------\u001b[0m",
      "\u001b[0;31mNameError\u001b[0m                                 Traceback (most recent call last)",
      "\u001b[0;32m<ipython-input-9-dd432028c150>\u001b[0m in \u001b[0;36m<module>\u001b[0;34m\u001b[0m\n\u001b[0;32m----> 1\u001b[0;31m \u001b[0;32mfor\u001b[0m \u001b[0mlabel\u001b[0m \u001b[0;32min\u001b[0m \u001b[0mcluster_labels\u001b[0m\u001b[0;34m:\u001b[0m\u001b[0;34m\u001b[0m\u001b[0;34m\u001b[0m\u001b[0m\n\u001b[0m\u001b[1;32m      2\u001b[0m     \u001b[0mfile_cluster\u001b[0m \u001b[0;34m=\u001b[0m \u001b[0mfile_list\u001b[0m\u001b[0;34m[\u001b[0m\u001b[0mcluster_indeces\u001b[0m \u001b[0;34m==\u001b[0m \u001b[0mlabel\u001b[0m\u001b[0;34m]\u001b[0m\u001b[0;34m\u001b[0m\u001b[0;34m\u001b[0m\u001b[0m\n\u001b[1;32m      3\u001b[0m     \u001b[0mfile_indeces\u001b[0m \u001b[0;34m=\u001b[0m \u001b[0mnp\u001b[0m\u001b[0;34m.\u001b[0m\u001b[0mnonzero\u001b[0m\u001b[0;34m(\u001b[0m\u001b[0mcluster_indeces\u001b[0m \u001b[0;34m==\u001b[0m \u001b[0mlabel\u001b[0m\u001b[0;34m)\u001b[0m\u001b[0;34m[\u001b[0m\u001b[0;36m0\u001b[0m\u001b[0;34m]\u001b[0m\u001b[0;34m\u001b[0m\u001b[0;34m\u001b[0m\u001b[0m\n\u001b[1;32m      4\u001b[0m \u001b[0;34m\u001b[0m\u001b[0m\n\u001b[1;32m      5\u001b[0m     \u001b[0mnum_files\u001b[0m \u001b[0;34m=\u001b[0m \u001b[0mlen\u001b[0m\u001b[0;34m(\u001b[0m\u001b[0mfile_cluster\u001b[0m\u001b[0;34m)\u001b[0m\u001b[0;34m\u001b[0m\u001b[0;34m\u001b[0m\u001b[0m\n",
      "\u001b[0;31mNameError\u001b[0m: name 'cluster_labels' is not defined"
     ]
    }
   ],
   "source": [
    "for label in cluster_labels:\n",
    "    file_cluster = file_list[cluster_indeces == label]\n",
    "    file_indeces = np.nonzero(cluster_indeces == label)[0]\n",
    "\n",
    "    num_files = len(file_cluster)\n",
    "    if num_files < num_selection:\n",
    "        num_selection = num_files\n",
    "\n",
    "    rand_choice = random.sample(np.arange(np.size(file_cluster)).tolist(), num_selection)\n",
    "\n",
    "    num_rc = np.ceil(np.sqrt(num_selection)).astype(int)\n",
    "\n",
    "    count = 1\n",
    "    plt.figure()\n",
    "    # for f in range(np.size(file_cluster)):\n",
    "    for f in rand_choice:\n",
    "        f_path = p_dir_array[file_indeces[f]] + '/' + file_cluster[f]\n",
    "\n",
    "        plt.subplot(num_rc,num_rc,count)\n",
    "        csd_grid = csd_functions.points2grid(np.array(pd.read_csv(f_path)))\n",
    "        plt.imshow(csd_grid,aspect='auto')\n",
    "        plt.axis('off')\n",
    "        plt.title(file_cluster[f])\n",
    "        \n",
    "        count += 1\n",
    "    \n",
    "    # plt.subplots_adjust(hspace=0.1, wspace=0.1)\n",
    "    plt.subplots_adjust(hspace=0.1, wspace=0.1)\n",
    "    plt.show()"
   ]
  }
 ],
 "metadata": {
  "language_info": {
   "codemirror_mode": {
    "name": "ipython",
    "version": 3
   },
   "file_extension": ".py",
   "mimetype": "text/x-python",
   "name": "python",
   "nbconvert_exporter": "python",
   "pygments_lexer": "ipython3",
   "version": 3
  },
  "orig_nbformat": 2,
  "kernelspec": {
   "name": "python_defaultSpec_1592771542354",
   "display_name": "Python 3.7.6 64-bit ('base': conda)"
  }
 },
 "nbformat": 4,
 "nbformat_minor": 2
}